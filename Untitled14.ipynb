{
 "cells": [
  {
   "cell_type": "code",
   "execution_count": null,
   "metadata": {},
   "outputs": [],
   "source": [
    "def add_array (a,b):\n",
    "    import numpy as np\n",
    "    len_a = len(a)\n",
    "    len_b = len(b)\n",
    "\n",
    "    diff = max(len_a, len_b) - min(len_a, len_b)\n",
    "\n",
    "    if len_a == max(len_a, len_b):\n",
    "        a = a\n",
    "    \n",
    "    if len_b == max(len_a, len_b):\n",
    "        b = b\n",
    "    \n",
    "    while len_a<max(len_a, len_b):\n",
    "        a=np.append(a, 0)\n",
    "        if len(a)==max(len_a, len_b):\n",
    "            break\n",
    "    \n",
    "\n",
    "    while len_b<max(len_a, len_b):\n",
    "        b=np.append(b, 0)\n",
    "        if len(b)==max(len_a, len_b):\n",
    "            break\n",
    "      \n",
    "    return(a+b)\n",
    "    \n",
    "a = np.array([1,2,3,4])\n",
    "b = np.array([5,6,7,8,9])\n",
    "\n",
    "add_array(a,b)"
   ]
  }
 ],
 "metadata": {
  "kernelspec": {
   "display_name": "Python 3",
   "language": "python",
   "name": "python3"
  },
  "language_info": {
   "codemirror_mode": {
    "name": "ipython",
    "version": 3
   },
   "file_extension": ".py",
   "mimetype": "text/x-python",
   "name": "python",
   "nbconvert_exporter": "python",
   "pygments_lexer": "ipython3",
   "version": "3.8.3"
  }
 },
 "nbformat": 4,
 "nbformat_minor": 4
}
