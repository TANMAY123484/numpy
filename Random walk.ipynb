{
  "nbformat": 4,
  "nbformat_minor": 0,
  "metadata": {
    "colab": {
      "name": "Untitled7.ipynb",
      "provenance": [],
      "authorship_tag": "ABX9TyPXlXgA1FZNWynVpqCQIg+H",
      "include_colab_link": true
    },
    "kernelspec": {
      "name": "python3",
      "display_name": "Python 3"
    },
    "language_info": {
      "name": "python"
    }
  },
  "cells": [
    {
      "cell_type": "markdown",
      "metadata": {
        "id": "view-in-github",
        "colab_type": "text"
      },
      "source": [
        "<a href=\"https://colab.research.google.com/github/TANMAY123484/numpy/blob/main/Random%20walk.ipynb\" target=\"_parent\"><img src=\"https://colab.research.google.com/assets/colab-badge.svg\" alt=\"Open In Colab\"/></a>"
      ]
    },
    {
      "cell_type": "code",
      "metadata": {
        "id": "Z4yP8-cUTlEF"
      },
      "source": [
        "import random"
      ],
      "execution_count": 4,
      "outputs": []
    },
    {
      "cell_type": "code",
      "metadata": {
        "id": "9gyadj9oTqtM"
      },
      "source": [
        "def random_walk(n):\n",
        "  x=0\n",
        "  y=0\n",
        "  for i in range(n):\n",
        "    step=random.choice(['N','S','E','W'])\n",
        "    if step=='N':\n",
        "      y=y+1\n",
        "    elif step=='S':\n",
        "        y=y-1\n",
        "    elif step=='E':\n",
        "      x=x+1\n",
        "    else:\n",
        "      x=x-1\n",
        "  return(x,y)\n"
      ],
      "execution_count": 2,
      "outputs": []
    },
    {
      "cell_type": "code",
      "metadata": {
        "colab": {
          "base_uri": "https://localhost:8080/"
        },
        "id": "ALZkrWZlTq7B",
        "outputId": "d14dc4ea-806c-4e42-bce5-e3724298d347"
      },
      "source": [
        "for i in range(25):\n",
        "  walk=random_walk(10)\n",
        "  print(walk,\"Distance from home = abs(walk[0])+abs(walk[1])\")\n"
      ],
      "execution_count": 5,
      "outputs": [
        {
          "output_type": "stream",
          "name": "stdout",
          "text": [
            "(-3, -1) Distance from home = abs(walk[0])+abs(walk[1])\n",
            "(-2, 0) Distance from home = abs(walk[0])+abs(walk[1])\n",
            "(1, -1) Distance from home = abs(walk[0])+abs(walk[1])\n",
            "(1, -3) Distance from home = abs(walk[0])+abs(walk[1])\n",
            "(3, -1) Distance from home = abs(walk[0])+abs(walk[1])\n",
            "(-1, 3) Distance from home = abs(walk[0])+abs(walk[1])\n",
            "(-5, 1) Distance from home = abs(walk[0])+abs(walk[1])\n",
            "(-4, -2) Distance from home = abs(walk[0])+abs(walk[1])\n",
            "(0, -2) Distance from home = abs(walk[0])+abs(walk[1])\n",
            "(1, 1) Distance from home = abs(walk[0])+abs(walk[1])\n",
            "(2, 0) Distance from home = abs(walk[0])+abs(walk[1])\n",
            "(-1, 5) Distance from home = abs(walk[0])+abs(walk[1])\n",
            "(1, -1) Distance from home = abs(walk[0])+abs(walk[1])\n",
            "(-1, -3) Distance from home = abs(walk[0])+abs(walk[1])\n",
            "(-1, -3) Distance from home = abs(walk[0])+abs(walk[1])\n",
            "(-2, 2) Distance from home = abs(walk[0])+abs(walk[1])\n",
            "(-1, 1) Distance from home = abs(walk[0])+abs(walk[1])\n",
            "(3, -5) Distance from home = abs(walk[0])+abs(walk[1])\n",
            "(0, -2) Distance from home = abs(walk[0])+abs(walk[1])\n",
            "(-2, 2) Distance from home = abs(walk[0])+abs(walk[1])\n",
            "(0, 4) Distance from home = abs(walk[0])+abs(walk[1])\n",
            "(-2, -4) Distance from home = abs(walk[0])+abs(walk[1])\n",
            "(3, 5) Distance from home = abs(walk[0])+abs(walk[1])\n",
            "(-2, -2) Distance from home = abs(walk[0])+abs(walk[1])\n",
            "(-3, 1) Distance from home = abs(walk[0])+abs(walk[1])\n"
          ]
        }
      ]
    },
    {
      "cell_type": "code",
      "metadata": {
        "id": "Miw-OdiuTrH1"
      },
      "source": [
        ""
      ],
      "execution_count": null,
      "outputs": []
    }
  ]
}